{
 "cells": [
  {
   "cell_type": "markdown",
   "id": "c1645a77",
   "metadata": {},
   "source": [
    "## Scholarship Scraper"
   ]
  },
  {
   "cell_type": "markdown",
   "id": "359dbb08",
   "metadata": {},
   "source": [
    "Install Dependencies"
   ]
  },
  {
   "cell_type": "code",
   "execution_count": 1,
   "id": "42257301",
   "metadata": {},
   "outputs": [
    {
     "name": "stdout",
     "output_type": "stream",
     "text": [
      "Defaulting to user installation because normal site-packages is not writeable\n",
      "Requirement already satisfied: python-dateutil in c:\\users\\kp computer\\appdata\\roaming\\python\\python311\\site-packages (2.8.2)\n",
      "Requirement already satisfied: six>=1.5 in c:\\users\\kp computer\\appdata\\roaming\\python\\python311\\site-packages (from python-dateutil) (1.16.0)\n"
     ]
    },
    {
     "name": "stderr",
     "output_type": "stream",
     "text": [
      "DEPRECATION: Loading egg at c:\\program files\\python311\\lib\\site-packages\\vboxapi-1.0-py3.11.egg is deprecated. pip 24.3 will enforce this behaviour change. A possible replacement is to use pip for package installation.. Discussion can be found at https://github.com/pypa/pip/issues/12330\n",
      "\n",
      "[notice] A new release of pip is available: 23.3.1 -> 25.0.1\n",
      "[notice] To update, run: python.exe -m pip install --upgrade pip\n"
     ]
    }
   ],
   "source": [
    "!pip install python-dateutil\n"
   ]
  },
  {
   "cell_type": "markdown",
   "id": "39ee9206",
   "metadata": {},
   "source": [
    "### Import Libraries"
   ]
  },
  {
   "cell_type": "code",
   "execution_count": 2,
   "id": "98594954",
   "metadata": {},
   "outputs": [],
   "source": [
    "from selenium import webdriver\n",
    "from selenium.webdriver.chrome.service import Service\n",
    "from selenium.webdriver.common.by import By\n",
    "from webdriver_manager.chrome import ChromeDriverManager\n",
    "from bs4 import BeautifulSoup\n",
    "from dateutil import parser as dateparser\n",
    "import re\n",
    "import time\n",
    "import csv\n"
   ]
  },
  {
   "cell_type": "markdown",
   "id": "5f53aeaa",
   "metadata": {},
   "source": [
    "### Define Section Extraction Function"
   ]
  },
  {
   "cell_type": "code",
   "execution_count": 3,
   "id": "7fa48503",
   "metadata": {},
   "outputs": [],
   "source": [
    "def extract_section(soup, keywords):\n",
    "    \"\"\"Extract text that comes after a heading containing any of the keywords.\"\"\"\n",
    "    for tag in soup.find_all([\"h2\", \"h3\", \"strong\", \"b\"]):\n",
    "        if any(word in tag.get_text(strip=True).lower() for word in keywords):\n",
    "            content = []\n",
    "            next_tag = tag.find_next_sibling()\n",
    "            while next_tag and next_tag.name in [\"p\", \"ul\"]:\n",
    "                content.append(next_tag.get_text(strip=True))\n",
    "                next_tag = next_tag.find_next_sibling()\n",
    "            return \"\\n\".join(content)\n",
    "    return \"\"\n"
   ]
  },
  {
   "cell_type": "markdown",
   "id": "fc888c73",
   "metadata": {},
   "source": [
    "### Set Up Web Driver"
   ]
  },
  {
   "cell_type": "code",
   "execution_count": 4,
   "id": "e8a8d256",
   "metadata": {},
   "outputs": [],
   "source": [
    "options = webdriver.ChromeOptions()\n",
    "# options.add_argument(\"--headless\")  # Uncomment for headless mode\n",
    "driver = webdriver.Chrome(service=Service(ChromeDriverManager().install()), options=options)\n",
    "\n"
   ]
  },
  {
   "cell_type": "markdown",
   "id": "2ff2cc17",
   "metadata": {},
   "source": [
    "### Load Tag Page and Get Links"
   ]
  },
  {
   "cell_type": "code",
   "execution_count": 5,
   "id": "ff96cbbb",
   "metadata": {},
   "outputs": [
    {
     "name": "stdout",
     "output_type": "stream",
     "text": [
      "Found 10 posts.\n"
     ]
    }
   ],
   "source": [
    "base_url = \"https://scholarshipscorner.website/chinese-government-scholarship/\"\n",
    "driver.get(base_url)\n",
    "time.sleep(3)\n",
    "\n",
    "post_elements = driver.find_elements(By.CSS_SELECTOR, \"h2.entry-title a\")\n",
    "post_links = [elem.get_attribute(\"href\") for elem in post_elements]\n",
    "print(f\"Found {len(post_links)} posts.\")\n"
   ]
  },
  {
   "cell_type": "markdown",
   "id": "bf31f117",
   "metadata": {},
   "source": [
    "### Create CSV File"
   ]
  },
  {
   "cell_type": "code",
   "execution_count": 6,
   "id": "43c46df3",
   "metadata": {},
   "outputs": [
    {
     "data": {
      "text/plain": [
       "108"
      ]
     },
     "execution_count": 6,
     "metadata": {},
     "output_type": "execute_result"
    }
   ],
   "source": [
    "csv_file = open(\"chinese_scholarships_detailed(1).csv\", mode=\"w\", newline=\"\", encoding=\"utf-8\")\n",
    "csv_writer = csv.DictWriter(csv_file, fieldnames=[\n",
    "    \"Title\", \"Link\", \"Official Link\", \"Deadline\", \"Eligibility\",\n",
    "    \"Host Country\", \"Host University\", \"Program Duration\", \"Degree Offered\"\n",
    "])\n",
    "\n",
    "csv_writer.writeheader()\n"
   ]
  },
  {
   "cell_type": "markdown",
   "id": "5129f12d",
   "metadata": {},
   "source": [
    "### Loop Through Each Post and Extract Data"
   ]
  },
  {
   "cell_type": "code",
   "execution_count": 7,
   "id": "db75dffb",
   "metadata": {},
   "outputs": [
    {
     "name": "stdout",
     "output_type": "stream",
     "text": [
      "✅ Saved: Schwarzman Scholars Programme 2026-27 in China | Fully Funded\n",
      "✅ Saved: Dalian University CSC Scholarship in China 2025 | Fully Funded\n",
      "✅ Saved: Chinese Government Scholarship Silk Road Program 2025 | Fully Funded\n",
      "✅ Saved: Xiamen University CSC Scholarship 2025 | Fully Funded | Chinese Government Scholarship\n",
      "✅ Saved: Zhejiang University CSC Scholarship 2025 in China | Fully Funded\n",
      "✅ Saved: HIT Chinese Government Scholarship in China 2025 | Fully Funded\n",
      "✅ Saved: Beijing Institute of Technology Scholarship in China 2025 | Fully Funded | BIT CSC Scholarship\n",
      "✅ Saved: Tsinghua University Scholarship in China 2025 | Fully Funded\n",
      "✅ Saved: Yenching Academy Scholarship in China 2026 | Fully Funded\n",
      "✅ Saved: Wuhan University CSC Scholarship in China 2024 | Fully Funded | Chinese Government Scholarship\n"
     ]
    }
   ],
   "source": [
    "for link in post_links:\n",
    "    driver.get(link)\n",
    "    time.sleep(2)\n",
    "    soup = BeautifulSoup(driver.page_source, \"html.parser\")\n",
    "\n",
    "    title = soup.find(\"h1\", class_=\"entry-title\").text.strip()\n",
    "    content_div = soup.find(\"div\", class_=\"entry-content\")\n",
    "\n",
    "    # Official link\n",
    "    official_link = \"\"\n",
    "    for a in content_div.find_all(\"a\"):\n",
    "        if \"official\" in a.text.lower() or \"apply\" in a.text.lower():\n",
    "            official_link = a.get(\"href\")\n",
    "            break\n",
    "\n",
    "    # Extract sections\n",
    "    deadline = extract_section(content_div, [\"deadline\", \"last date\"])\n",
    "    eligibility = extract_section(content_div, [\"eligibility\", \"who can apply\", \"eligible\"])\n",
    "    host_country = extract_section(content_div, [\"host country\", \"study in\"])\n",
    "    host_university = extract_section(content_div, [\"host university\", \"offered by\"])\n",
    "    program_duration = extract_section(content_div, [\"program duration\", \"duration\"])\n",
    "    degree_offered = extract_section(content_div, [\"degree\", \"degree offered\", \"field of study\", \"what you will study\"])\n",
    "\n",
    "    csv_writer.writerow({\n",
    "        \"Title\": title,\n",
    "        \"Link\": link,\n",
    "        \"Official Link\": official_link,\n",
    "        \"Deadline\": deadline,\n",
    "        \"Eligibility\": eligibility,\n",
    "        \"Host Country\": host_country,\n",
    "        \"Host University\": host_university,\n",
    "        \"Program Duration\": program_duration,\n",
    "        \"Degree Offered\": degree_offered\n",
    "    })\n",
    "\n",
    "\n",
    "    print(f\"✅ Saved: {title}\")\n"
   ]
  },
  {
   "cell_type": "markdown",
   "id": "d31e7de2",
   "metadata": {},
   "source": [
    "### Close File and Driver"
   ]
  },
  {
   "cell_type": "code",
   "execution_count": 8,
   "id": "7104444e",
   "metadata": {},
   "outputs": [
    {
     "name": "stdout",
     "output_type": "stream",
     "text": [
      "🎉 Data saved to chinese_scholarships_detailed.csv\n"
     ]
    }
   ],
   "source": [
    "csv_file.close()\n",
    "driver.quit()\n",
    "print(\"🎉 Data saved to chinese_scholarships_detailed.csv\")\n"
   ]
  }
 ],
 "metadata": {
  "kernelspec": {
   "display_name": "Python 3",
   "language": "python",
   "name": "python3"
  },
  "language_info": {
   "codemirror_mode": {
    "name": "ipython",
    "version": 3
   },
   "file_extension": ".py",
   "mimetype": "text/x-python",
   "name": "python",
   "nbconvert_exporter": "python",
   "pygments_lexer": "ipython3",
   "version": "3.11.1"
  }
 },
 "nbformat": 4,
 "nbformat_minor": 5
}
